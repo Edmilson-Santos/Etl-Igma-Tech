{
 "cells": [
  {
   "cell_type": "code",
   "execution_count": null,
   "id": "7975bb55",
   "metadata": {},
   "outputs": [],
   "source": [
    "from FactTrips     import create_fact_trips\n",
    "from DimCalendar   import create_dim_calendario\n",
    "from DimLocation   import create_dim_location\n",
    "from DimPayment    import create_dim_payment\n",
    "from DimRatecod    import create_dim_ratecode\n",
    "from DimStoreFlag  import create_dim_storeflag\n",
    "from DimVendor     import create_dim_vendor\n",
    "\n",
    "\n",
    "\n",
    "#rodar na ordem que o cliente solicitar ou definição da equipe do projeto \n",
    "if __name__ == \"__main__\":\n",
    "    create_fact_trips()\n",
    "    create_dim_calendario()\n",
    "    create_dim_location()\n",
    "    create_dim_payment()\n",
    "    create_dim_ratecode()   \n",
    "    create_dim_storeflag()\n",
    "    create_dim_vendor()\n",
    "    "
   ]
  }
 ],
 "metadata": {
  "language_info": {
   "name": "python"
  }
 },
 "nbformat": 4,
 "nbformat_minor": 5
}
