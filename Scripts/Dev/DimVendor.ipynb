{
 "cells": [
  {
   "cell_type": "markdown",
   "id": "c8e263be",
   "metadata": {},
   "source": [
    "Base Extra CSV\n",
    "https://www.nyc.gov/site/tlc/about/tlc-trip-record-data.page"
   ]
  },
  {
   "cell_type": "code",
   "execution_count": 5,
   "id": "0a83ad0f",
   "metadata": {},
   "outputs": [
    {
     "data": {
      "text/plain": [
       "'\\nFatoCorrida = Todas datas,ids e métricas\\nDimensões:\\nDimVendor (Dimensão do fornecedor do táxi)\\nDimRatecode (Tipo de tarifa)\\nDimLocation (Localização - para pickup e dropoff) -- Plus contratação , tentar achar arquivo com ID das localizações \\nDimPayment (Forma de pagamento)\\nDimCalendário \\n'"
      ]
     },
     "execution_count": 5,
     "metadata": {},
     "output_type": "execute_result"
    }
   ],
   "source": [
    "#Teste Criar Dimensoes\n",
    "'''\n",
    "FatoCorrida = Todas datas,ids e métricas\n",
    "Dimensões:\n",
    "DimVendor (Dimensão do fornecedor do táxi)\n",
    "DimRatecode (Tipo de tarifa)\n",
    "DimLocation (Localização - para pickup e dropoff) -- Plus contratação , tentar achar arquivo com ID das localizações \n",
    "DimPayment (Forma de pagamento)\n",
    "DimCalendário \n",
    "'''"
   ]
  },
  {
   "cell_type": "markdown",
   "id": "a5c60c93",
   "metadata": {},
   "source": [
    "DimVendor"
   ]
  },
  {
   "cell_type": "code",
   "execution_count": 12,
   "id": "343dc66b",
   "metadata": {},
   "outputs": [
    {
     "data": {
      "text/plain": [
       "'\\nObs destination  de todas as tabelas: como a base informada só tem o mes de jan para diferenciar o nome no arquivo coloquei manual \\nporem da para inseirir em variavel para pegar o mes atual quando rodar a base do mes salva o arquivo conforme o mes vigente\\n\\n'"
      ]
     },
     "execution_count": 12,
     "metadata": {},
     "output_type": "execute_result"
    }
   ],
   "source": [
    "import os\n",
    "import pandas as pd\n",
    "from path_origem_parquet import get_parquet_path\n",
    "from path_destination_Dim import get_dim_path\n",
    "\n",
    "\n",
    "path_parquet = os.path.join(get_parquet_path(), 'database.parquet')\n",
    "destination_vendor = os.path.join(get_dim_path(), 'dim_vendor_jan.parquet')\n",
    "'''\n",
    "Obs destination  de todas as tabelas: como a base informada só tem o mes de jan para diferenciar o nome no arquivo coloquei manual \n",
    "porem da para inseirir em variavel para pegar o mes atual quando rodar a base do mes salva o arquivo conforme o mes vigente\n",
    "\n",
    "'''\n"
   ]
  },
  {
   "cell_type": "code",
   "execution_count": 13,
   "id": "d5e62c15",
   "metadata": {},
   "outputs": [
    {
     "data": {
      "text/html": [
       "<div>\n",
       "<style scoped>\n",
       "    .dataframe tbody tr th:only-of-type {\n",
       "        vertical-align: middle;\n",
       "    }\n",
       "\n",
       "    .dataframe tbody tr th {\n",
       "        vertical-align: top;\n",
       "    }\n",
       "\n",
       "    .dataframe thead th {\n",
       "        text-align: right;\n",
       "    }\n",
       "</style>\n",
       "<table border=\"1\" class=\"dataframe\">\n",
       "  <thead>\n",
       "    <tr style=\"text-align: right;\">\n",
       "      <th></th>\n",
       "      <th>VendorID</th>\n",
       "      <th>tpep_pickup_datetime</th>\n",
       "      <th>tpep_dropoff_datetime</th>\n",
       "      <th>passenger_count</th>\n",
       "      <th>trip_distance</th>\n",
       "      <th>RatecodeID</th>\n",
       "      <th>store_and_fwd_flag</th>\n",
       "      <th>PULocationID</th>\n",
       "      <th>DOLocationID</th>\n",
       "      <th>payment_type</th>\n",
       "      <th>fare_amount</th>\n",
       "      <th>extra</th>\n",
       "      <th>mta_tax</th>\n",
       "      <th>tip_amount</th>\n",
       "      <th>tolls_amount</th>\n",
       "      <th>improvement_surcharge</th>\n",
       "      <th>total_amount</th>\n",
       "      <th>congestion_surcharge</th>\n",
       "      <th>Airport_fee</th>\n",
       "      <th>cbd_congestion_fee</th>\n",
       "    </tr>\n",
       "  </thead>\n",
       "  <tbody>\n",
       "    <tr>\n",
       "      <th>0</th>\n",
       "      <td>1</td>\n",
       "      <td>2025-01-01 00:18:38</td>\n",
       "      <td>2025-01-01 00:26:59</td>\n",
       "      <td>1.0</td>\n",
       "      <td>1.6</td>\n",
       "      <td>1.0</td>\n",
       "      <td>N</td>\n",
       "      <td>229</td>\n",
       "      <td>237</td>\n",
       "      <td>1</td>\n",
       "      <td>10.0</td>\n",
       "      <td>3.5</td>\n",
       "      <td>0.5</td>\n",
       "      <td>3.00</td>\n",
       "      <td>0.0</td>\n",
       "      <td>1.0</td>\n",
       "      <td>18.00</td>\n",
       "      <td>2.5</td>\n",
       "      <td>0.0</td>\n",
       "      <td>0.0</td>\n",
       "    </tr>\n",
       "    <tr>\n",
       "      <th>1</th>\n",
       "      <td>1</td>\n",
       "      <td>2025-01-01 00:32:40</td>\n",
       "      <td>2025-01-01 00:35:13</td>\n",
       "      <td>1.0</td>\n",
       "      <td>0.5</td>\n",
       "      <td>1.0</td>\n",
       "      <td>N</td>\n",
       "      <td>236</td>\n",
       "      <td>237</td>\n",
       "      <td>1</td>\n",
       "      <td>5.1</td>\n",
       "      <td>3.5</td>\n",
       "      <td>0.5</td>\n",
       "      <td>2.02</td>\n",
       "      <td>0.0</td>\n",
       "      <td>1.0</td>\n",
       "      <td>12.12</td>\n",
       "      <td>2.5</td>\n",
       "      <td>0.0</td>\n",
       "      <td>0.0</td>\n",
       "    </tr>\n",
       "  </tbody>\n",
       "</table>\n",
       "</div>"
      ],
      "text/plain": [
       "   VendorID tpep_pickup_datetime tpep_dropoff_datetime  passenger_count  \\\n",
       "0         1  2025-01-01 00:18:38   2025-01-01 00:26:59              1.0   \n",
       "1         1  2025-01-01 00:32:40   2025-01-01 00:35:13              1.0   \n",
       "\n",
       "   trip_distance  RatecodeID store_and_fwd_flag  PULocationID  DOLocationID  \\\n",
       "0            1.6         1.0                  N           229           237   \n",
       "1            0.5         1.0                  N           236           237   \n",
       "\n",
       "   payment_type  fare_amount  extra  mta_tax  tip_amount  tolls_amount  \\\n",
       "0             1         10.0    3.5      0.5        3.00           0.0   \n",
       "1             1          5.1    3.5      0.5        2.02           0.0   \n",
       "\n",
       "   improvement_surcharge  total_amount  congestion_surcharge  Airport_fee  \\\n",
       "0                    1.0         18.00                   2.5          0.0   \n",
       "1                    1.0         12.12                   2.5          0.0   \n",
       "\n",
       "   cbd_congestion_fee  \n",
       "0                 0.0  \n",
       "1                 0.0  "
      ]
     },
     "execution_count": 13,
     "metadata": {},
     "output_type": "execute_result"
    }
   ],
   "source": [
    "df_vendor = pd.read_parquet(path_parquet)\n",
    "df_vendor.head(2)"
   ]
  },
  {
   "cell_type": "code",
   "execution_count": 14,
   "id": "3236a21b",
   "metadata": {},
   "outputs": [
    {
     "data": {
      "text/html": [
       "<div>\n",
       "<style scoped>\n",
       "    .dataframe tbody tr th:only-of-type {\n",
       "        vertical-align: middle;\n",
       "    }\n",
       "\n",
       "    .dataframe tbody tr th {\n",
       "        vertical-align: top;\n",
       "    }\n",
       "\n",
       "    .dataframe thead th {\n",
       "        text-align: right;\n",
       "    }\n",
       "</style>\n",
       "<table border=\"1\" class=\"dataframe\">\n",
       "  <thead>\n",
       "    <tr style=\"text-align: right;\">\n",
       "      <th></th>\n",
       "      <th>VendorID</th>\n",
       "      <th>VendorName</th>\n",
       "    </tr>\n",
       "  </thead>\n",
       "  <tbody>\n",
       "    <tr>\n",
       "      <th>0</th>\n",
       "      <td>1</td>\n",
       "      <td>Creative Mobile Technologies, LLC</td>\n",
       "    </tr>\n",
       "    <tr>\n",
       "      <th>3</th>\n",
       "      <td>2</td>\n",
       "      <td>Curb Mobility, LLC</td>\n",
       "    </tr>\n",
       "    <tr>\n",
       "      <th>31891</th>\n",
       "      <td>7</td>\n",
       "      <td>Helix</td>\n",
       "    </tr>\n",
       "    <tr>\n",
       "      <th>2943550</th>\n",
       "      <td>6</td>\n",
       "      <td>Myle Technologies Inc</td>\n",
       "    </tr>\n",
       "  </tbody>\n",
       "</table>\n",
       "</div>"
      ],
      "text/plain": [
       "         VendorID                         VendorName\n",
       "0               1  Creative Mobile Technologies, LLC\n",
       "3               2                 Curb Mobility, LLC\n",
       "31891           7                              Helix\n",
       "2943550         6              Myle Technologies Inc"
      ]
     },
     "execution_count": 14,
     "metadata": {},
     "output_type": "execute_result"
    }
   ],
   "source": [
    "\n",
    "df_dim_vendor = df_vendor[['VendorID']].drop_duplicates().copy()\n",
    "\n",
    "\n",
    "map_vendor = {\n",
    "    1: 'Creative Mobile Technologies, LLC',\n",
    "    2: 'Curb Mobility, LLC',\n",
    "    6: 'Myle Technologies Inc',\n",
    "    7: 'Helix'\n",
    "}\n",
    "\n",
    "df_dim_vendor['VendorName'] = df_dim_vendor['VendorID'].map(map_vendor)\n",
    "\n",
    "\n",
    "df_dim_vendor.head()"
   ]
  },
  {
   "cell_type": "code",
   "execution_count": 15,
   "id": "cbd5fec6",
   "metadata": {},
   "outputs": [
    {
     "name": "stdout",
     "output_type": "stream",
     "text": [
      "d:\\05. Projetos Python\\Etl Igma Tech\\Storage\\Database\\database.parquet\n",
      "d:\\05. Projetos Python\\Etl Igma Tech\\Storage\\Dim\\dim_vendor_jan.parquet\n"
     ]
    }
   ],
   "source": [
    "#ver se destinos estao ok\n",
    "print(path_parquet)\n",
    "print(destination_vendor)"
   ]
  },
  {
   "cell_type": "code",
   "execution_count": 16,
   "id": "992885e9",
   "metadata": {},
   "outputs": [],
   "source": [
    "df_dim_vendor.to_parquet(destination_vendor, index=False)"
   ]
  },
  {
   "cell_type": "code",
   "execution_count": 17,
   "id": "59bd79e5",
   "metadata": {},
   "outputs": [
    {
     "data": {
      "text/html": [
       "<div>\n",
       "<style scoped>\n",
       "    .dataframe tbody tr th:only-of-type {\n",
       "        vertical-align: middle;\n",
       "    }\n",
       "\n",
       "    .dataframe tbody tr th {\n",
       "        vertical-align: top;\n",
       "    }\n",
       "\n",
       "    .dataframe thead th {\n",
       "        text-align: right;\n",
       "    }\n",
       "</style>\n",
       "<table border=\"1\" class=\"dataframe\">\n",
       "  <thead>\n",
       "    <tr style=\"text-align: right;\">\n",
       "      <th></th>\n",
       "      <th>VendorID</th>\n",
       "      <th>VendorName</th>\n",
       "    </tr>\n",
       "  </thead>\n",
       "  <tbody>\n",
       "    <tr>\n",
       "      <th>0</th>\n",
       "      <td>1</td>\n",
       "      <td>Creative Mobile Technologies, LLC</td>\n",
       "    </tr>\n",
       "    <tr>\n",
       "      <th>1</th>\n",
       "      <td>2</td>\n",
       "      <td>Curb Mobility, LLC</td>\n",
       "    </tr>\n",
       "    <tr>\n",
       "      <th>2</th>\n",
       "      <td>7</td>\n",
       "      <td>Helix</td>\n",
       "    </tr>\n",
       "    <tr>\n",
       "      <th>3</th>\n",
       "      <td>6</td>\n",
       "      <td>Myle Technologies Inc</td>\n",
       "    </tr>\n",
       "  </tbody>\n",
       "</table>\n",
       "</div>"
      ],
      "text/plain": [
       "   VendorID                         VendorName\n",
       "0         1  Creative Mobile Technologies, LLC\n",
       "1         2                 Curb Mobility, LLC\n",
       "2         7                              Helix\n",
       "3         6              Myle Technologies Inc"
      ]
     },
     "execution_count": 17,
     "metadata": {},
     "output_type": "execute_result"
    }
   ],
   "source": [
    "# ler de teste ver se está ok \n",
    "df_test_vendor = pd.read_parquet(destination_vendor)\n",
    "df_test_vendor.head()"
   ]
  }
 ],
 "metadata": {
  "kernelspec": {
   "display_name": "venv",
   "language": "python",
   "name": "python3"
  },
  "language_info": {
   "codemirror_mode": {
    "name": "ipython",
    "version": 3
   },
   "file_extension": ".py",
   "mimetype": "text/x-python",
   "name": "python",
   "nbconvert_exporter": "python",
   "pygments_lexer": "ipython3",
   "version": "3.11.4"
  }
 },
 "nbformat": 4,
 "nbformat_minor": 5
}
